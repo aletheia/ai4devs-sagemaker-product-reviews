{
 "cells": [
  {
   "cell_type": "code",
   "execution_count": 1,
   "metadata": {},
   "outputs": [],
   "source": [
    "import pandas as pd\n",
    "import numpy as np\n",
    "import time\n",
    "from time import gmtime, strftime"
   ]
  },
  {
   "cell_type": "code",
   "execution_count": 2,
   "metadata": {},
   "outputs": [
    {
     "name": "stdout",
     "output_type": "stream",
     "text": [
      "CPU times: user 19.7 s, sys: 2.89 s, total: 22.6 s\n",
      "Wall time: 43.5 s\n"
     ]
    }
   ],
   "source": [
    "%%time\n",
    "s3_athena_file = 's3://lb.athena.queries.result/Unsaved/2021/06/13/41880f40-92d0-4dc8-a108-2fc58c9bff5d.csv'\n",
    "data = pd.read_csv(s3_athena_file, error_bad_lines=False, dtype='str')"
   ]
  },
  {
   "cell_type": "code",
   "execution_count": 3,
   "metadata": {},
   "outputs": [
    {
     "name": "stdout",
     "output_type": "stream",
     "text": [
      "(1808399, 16)\n",
      "Index(['marketplace', 'customer_id', 'review_id', 'product_id',\n",
      "       'product_parent', 'product_title', 'star_rating', 'helpful_votes',\n",
      "       'total_votes', 'vine', 'verified_purchase', 'review_headline',\n",
      "       'review_body', 'review_date', 'year', 'product_category'],\n",
      "      dtype='object')\n"
     ]
    },
    {
     "data": {
      "text/html": [
       "<div>\n",
       "<style scoped>\n",
       "    .dataframe tbody tr th:only-of-type {\n",
       "        vertical-align: middle;\n",
       "    }\n",
       "\n",
       "    .dataframe tbody tr th {\n",
       "        vertical-align: top;\n",
       "    }\n",
       "\n",
       "    .dataframe thead th {\n",
       "        text-align: right;\n",
       "    }\n",
       "</style>\n",
       "<table border=\"1\" class=\"dataframe\">\n",
       "  <thead>\n",
       "    <tr style=\"text-align: right;\">\n",
       "      <th></th>\n",
       "      <th>marketplace</th>\n",
       "      <th>customer_id</th>\n",
       "      <th>review_id</th>\n",
       "      <th>product_id</th>\n",
       "      <th>product_parent</th>\n",
       "      <th>product_title</th>\n",
       "      <th>star_rating</th>\n",
       "      <th>helpful_votes</th>\n",
       "      <th>total_votes</th>\n",
       "      <th>vine</th>\n",
       "      <th>verified_purchase</th>\n",
       "      <th>review_headline</th>\n",
       "      <th>review_body</th>\n",
       "      <th>review_date</th>\n",
       "      <th>year</th>\n",
       "      <th>product_category</th>\n",
       "    </tr>\n",
       "  </thead>\n",
       "  <tbody>\n",
       "    <tr>\n",
       "      <th>0</th>\n",
       "      <td>US</td>\n",
       "      <td>18684548</td>\n",
       "      <td>R3QK7ITZLJTWLF</td>\n",
       "      <td>B002BU0DPE</td>\n",
       "      <td>327243299</td>\n",
       "      <td>PS3 Ear Force PX21 Gaming Headset</td>\n",
       "      <td>1</td>\n",
       "      <td>0</td>\n",
       "      <td>0</td>\n",
       "      <td>N</td>\n",
       "      <td>Y</td>\n",
       "      <td>Cheaply made.</td>\n",
       "      <td>The headset is shoddy. The wires that transmit...</td>\n",
       "      <td>15520</td>\n",
       "      <td>2012</td>\n",
       "      <td>Video_Games</td>\n",
       "    </tr>\n",
       "    <tr>\n",
       "      <th>1</th>\n",
       "      <td>US</td>\n",
       "      <td>33788217</td>\n",
       "      <td>R2FNT507ZCB4GE</td>\n",
       "      <td>B001GM6C26</td>\n",
       "      <td>577190767</td>\n",
       "      <td>Mortimer Beckett and the Secrets of Spooky Man...</td>\n",
       "      <td>3</td>\n",
       "      <td>1</td>\n",
       "      <td>1</td>\n",
       "      <td>N</td>\n",
       "      <td>N</td>\n",
       "      <td>not bad</td>\n",
       "      <td>being a fan of hidden pictures this game can b...</td>\n",
       "      <td>14382</td>\n",
       "      <td>2009</td>\n",
       "      <td>Video_Games</td>\n",
       "    </tr>\n",
       "    <tr>\n",
       "      <th>2</th>\n",
       "      <td>US</td>\n",
       "      <td>17015645</td>\n",
       "      <td>R1LVPFY1GV1NLA</td>\n",
       "      <td>B00178630A</td>\n",
       "      <td>111226018</td>\n",
       "      <td>Diablo III - PC/Mac</td>\n",
       "      <td>1</td>\n",
       "      <td>6</td>\n",
       "      <td>8</td>\n",
       "      <td>N</td>\n",
       "      <td>N</td>\n",
       "      <td>Addictive, but not fun</td>\n",
       "      <td>Let me give you a quick summary of the game.  ...</td>\n",
       "      <td>15521</td>\n",
       "      <td>2012</td>\n",
       "      <td>Video_Games</td>\n",
       "    </tr>\n",
       "    <tr>\n",
       "      <th>3</th>\n",
       "      <td>US</td>\n",
       "      <td>32737971</td>\n",
       "      <td>R3MGDCF0BFTYQM</td>\n",
       "      <td>B0012NAXE2</td>\n",
       "      <td>215020735</td>\n",
       "      <td>Madden NFL 09</td>\n",
       "      <td>2</td>\n",
       "      <td>2</td>\n",
       "      <td>4</td>\n",
       "      <td>N</td>\n",
       "      <td>N</td>\n",
       "      <td>THE POOREST MADDEN GAME EVER</td>\n",
       "      <td>When I first got this game for Christmas, I th...</td>\n",
       "      <td>14382</td>\n",
       "      <td>2009</td>\n",
       "      <td>Video_Games</td>\n",
       "    </tr>\n",
       "    <tr>\n",
       "      <th>4</th>\n",
       "      <td>US</td>\n",
       "      <td>41771473</td>\n",
       "      <td>RZD8INNNJ46OZ</td>\n",
       "      <td>B0038TR60M</td>\n",
       "      <td>598858515</td>\n",
       "      <td>Crimson Red &amp; Black - Nintendo DS Lite Complet...</td>\n",
       "      <td>2</td>\n",
       "      <td>0</td>\n",
       "      <td>0</td>\n",
       "      <td>N</td>\n",
       "      <td>Y</td>\n",
       "      <td>Good case but still disappointed</td>\n",
       "      <td>The case is excellent. I'm well on my way to f...</td>\n",
       "      <td>15521</td>\n",
       "      <td>2012</td>\n",
       "      <td>Video_Games</td>\n",
       "    </tr>\n",
       "  </tbody>\n",
       "</table>\n",
       "</div>"
      ],
      "text/plain": [
       "  marketplace customer_id       review_id  product_id product_parent  \\\n",
       "0          US    18684548  R3QK7ITZLJTWLF  B002BU0DPE      327243299   \n",
       "1          US    33788217  R2FNT507ZCB4GE  B001GM6C26      577190767   \n",
       "2          US    17015645  R1LVPFY1GV1NLA  B00178630A      111226018   \n",
       "3          US    32737971  R3MGDCF0BFTYQM  B0012NAXE2      215020735   \n",
       "4          US    41771473   RZD8INNNJ46OZ  B0038TR60M      598858515   \n",
       "\n",
       "                                       product_title star_rating  \\\n",
       "0                  PS3 Ear Force PX21 Gaming Headset           1   \n",
       "1  Mortimer Beckett and the Secrets of Spooky Man...           3   \n",
       "2                                Diablo III - PC/Mac           1   \n",
       "3                                      Madden NFL 09           2   \n",
       "4  Crimson Red & Black - Nintendo DS Lite Complet...           2   \n",
       "\n",
       "  helpful_votes total_votes vine verified_purchase  \\\n",
       "0             0           0    N                 Y   \n",
       "1             1           1    N                 N   \n",
       "2             6           8    N                 N   \n",
       "3             2           4    N                 N   \n",
       "4             0           0    N                 Y   \n",
       "\n",
       "                    review_headline  \\\n",
       "0                     Cheaply made.   \n",
       "1                           not bad   \n",
       "2            Addictive, but not fun   \n",
       "3      THE POOREST MADDEN GAME EVER   \n",
       "4  Good case but still disappointed   \n",
       "\n",
       "                                         review_body review_date  year  \\\n",
       "0  The headset is shoddy. The wires that transmit...       15520  2012   \n",
       "1  being a fan of hidden pictures this game can b...       14382  2009   \n",
       "2  Let me give you a quick summary of the game.  ...       15521  2012   \n",
       "3  When I first got this game for Christmas, I th...       14382  2009   \n",
       "4  The case is excellent. I'm well on my way to f...       15521  2012   \n",
       "\n",
       "  product_category  \n",
       "0      Video_Games  \n",
       "1      Video_Games  \n",
       "2      Video_Games  \n",
       "3      Video_Games  \n",
       "4      Video_Games  "
      ]
     },
     "execution_count": 3,
     "metadata": {},
     "output_type": "execute_result"
    }
   ],
   "source": [
    "data.dropna(inplace=True)\n",
    "\n",
    "print(data.shape)\n",
    "print(data.columns)\n",
    "\n",
    "data.head()"
   ]
  },
  {
   "cell_type": "code",
   "execution_count": 4,
   "metadata": {},
   "outputs": [
    {
     "name": "stdout",
     "output_type": "stream",
     "text": [
      "CPU times: user 993 ms, sys: 470 ms, total: 1.46 s\n",
      "Wall time: 1.58 s\n"
     ]
    }
   ],
   "source": [
    "%%time\n",
    "data['review_body'] = data['review_headline'] + ' ' + data['review_body']"
   ]
  },
  {
   "cell_type": "code",
   "execution_count": 5,
   "metadata": {},
   "outputs": [
    {
     "name": "stdout",
     "output_type": "stream",
     "text": [
      "CPU times: user 79.2 ms, sys: 21.9 ms, total: 101 ms\n",
      "Wall time: 122 ms\n"
     ]
    }
   ],
   "source": [
    "%%time\n",
    "data = data[['review_id', 'product_id','star_rating','review_body']]"
   ]
  },
  {
   "cell_type": "code",
   "execution_count": 7,
   "metadata": {},
   "outputs": [
    {
     "data": {
      "text/html": [
       "<div>\n",
       "<style scoped>\n",
       "    .dataframe tbody tr th:only-of-type {\n",
       "        vertical-align: middle;\n",
       "    }\n",
       "\n",
       "    .dataframe tbody tr th {\n",
       "        vertical-align: top;\n",
       "    }\n",
       "\n",
       "    .dataframe thead th {\n",
       "        text-align: right;\n",
       "    }\n",
       "</style>\n",
       "<table border=\"1\" class=\"dataframe\">\n",
       "  <thead>\n",
       "    <tr style=\"text-align: right;\">\n",
       "      <th></th>\n",
       "      <th>review_id</th>\n",
       "      <th>product_id</th>\n",
       "      <th>star_rating</th>\n",
       "      <th>review_body</th>\n",
       "    </tr>\n",
       "  </thead>\n",
       "  <tbody>\n",
       "    <tr>\n",
       "      <th>0</th>\n",
       "      <td>R3QK7ITZLJTWLF</td>\n",
       "      <td>B002BU0DPE</td>\n",
       "      <td>1</td>\n",
       "      <td>Cheaply made. The headset is shoddy. The wires...</td>\n",
       "    </tr>\n",
       "    <tr>\n",
       "      <th>1</th>\n",
       "      <td>R2FNT507ZCB4GE</td>\n",
       "      <td>B001GM6C26</td>\n",
       "      <td>3</td>\n",
       "      <td>not bad being a fan of hidden pictures this ga...</td>\n",
       "    </tr>\n",
       "    <tr>\n",
       "      <th>2</th>\n",
       "      <td>R1LVPFY1GV1NLA</td>\n",
       "      <td>B00178630A</td>\n",
       "      <td>1</td>\n",
       "      <td>Addictive, but not fun Let me give you a quick...</td>\n",
       "    </tr>\n",
       "    <tr>\n",
       "      <th>3</th>\n",
       "      <td>R3MGDCF0BFTYQM</td>\n",
       "      <td>B0012NAXE2</td>\n",
       "      <td>2</td>\n",
       "      <td>THE POOREST MADDEN GAME EVER When I first got ...</td>\n",
       "    </tr>\n",
       "    <tr>\n",
       "      <th>4</th>\n",
       "      <td>RZD8INNNJ46OZ</td>\n",
       "      <td>B0038TR60M</td>\n",
       "      <td>2</td>\n",
       "      <td>Good case but still disappointed The case is e...</td>\n",
       "    </tr>\n",
       "  </tbody>\n",
       "</table>\n",
       "</div>"
      ],
      "text/plain": [
       "        review_id  product_id star_rating  \\\n",
       "0  R3QK7ITZLJTWLF  B002BU0DPE           1   \n",
       "1  R2FNT507ZCB4GE  B001GM6C26           3   \n",
       "2  R1LVPFY1GV1NLA  B00178630A           1   \n",
       "3  R3MGDCF0BFTYQM  B0012NAXE2           2   \n",
       "4   RZD8INNNJ46OZ  B0038TR60M           2   \n",
       "\n",
       "                                         review_body  \n",
       "0  Cheaply made. The headset is shoddy. The wires...  \n",
       "1  not bad being a fan of hidden pictures this ga...  \n",
       "2  Addictive, but not fun Let me give you a quick...  \n",
       "3  THE POOREST MADDEN GAME EVER When I first got ...  \n",
       "4  Good case but still disappointed The case is e...  "
      ]
     },
     "execution_count": 7,
     "metadata": {},
     "output_type": "execute_result"
    }
   ],
   "source": [
    "data.head()"
   ]
  },
  {
   "cell_type": "code",
   "execution_count": 8,
   "metadata": {},
   "outputs": [
    {
     "data": {
      "text/plain": [
       "array(['1', '3', '2', '4', '5'], dtype=object)"
      ]
     },
     "execution_count": 8,
     "metadata": {},
     "output_type": "execute_result"
    }
   ],
   "source": [
    "data.star_rating.unique()"
   ]
  },
  {
   "cell_type": "code",
   "execution_count": 9,
   "metadata": {},
   "outputs": [
    {
     "name": "stdout",
     "output_type": "stream",
     "text": [
      "CPU times: user 174 ms, sys: 3.64 ms, total: 177 ms\n",
      "Wall time: 224 ms\n"
     ]
    }
   ],
   "source": [
    "%%time\n",
    "data['label'] = data.star_rating.map({\n",
    "    '1':'__label__negative__',\n",
    "    '2':'__label__negative__',\n",
    "    '3':'__label__neutral__',\n",
    "    '4':'__label__positive__',\n",
    "    '5':'__label__positive__'\n",
    "})"
   ]
  },
  {
   "cell_type": "code",
   "execution_count": 10,
   "metadata": {},
   "outputs": [
    {
     "data": {
      "text/html": [
       "<div>\n",
       "<style scoped>\n",
       "    .dataframe tbody tr th:only-of-type {\n",
       "        vertical-align: middle;\n",
       "    }\n",
       "\n",
       "    .dataframe tbody tr th {\n",
       "        vertical-align: top;\n",
       "    }\n",
       "\n",
       "    .dataframe thead th {\n",
       "        text-align: right;\n",
       "    }\n",
       "</style>\n",
       "<table border=\"1\" class=\"dataframe\">\n",
       "  <thead>\n",
       "    <tr style=\"text-align: right;\">\n",
       "      <th></th>\n",
       "      <th>review_id</th>\n",
       "      <th>product_id</th>\n",
       "      <th>star_rating</th>\n",
       "      <th>review_body</th>\n",
       "      <th>label</th>\n",
       "    </tr>\n",
       "  </thead>\n",
       "  <tbody>\n",
       "    <tr>\n",
       "      <th>0</th>\n",
       "      <td>R3QK7ITZLJTWLF</td>\n",
       "      <td>B002BU0DPE</td>\n",
       "      <td>1</td>\n",
       "      <td>Cheaply made. The headset is shoddy. The wires...</td>\n",
       "      <td>__label__negative__</td>\n",
       "    </tr>\n",
       "    <tr>\n",
       "      <th>1</th>\n",
       "      <td>R2FNT507ZCB4GE</td>\n",
       "      <td>B001GM6C26</td>\n",
       "      <td>3</td>\n",
       "      <td>not bad being a fan of hidden pictures this ga...</td>\n",
       "      <td>__label__neutral__</td>\n",
       "    </tr>\n",
       "    <tr>\n",
       "      <th>2</th>\n",
       "      <td>R1LVPFY1GV1NLA</td>\n",
       "      <td>B00178630A</td>\n",
       "      <td>1</td>\n",
       "      <td>Addictive, but not fun Let me give you a quick...</td>\n",
       "      <td>__label__negative__</td>\n",
       "    </tr>\n",
       "    <tr>\n",
       "      <th>3</th>\n",
       "      <td>R3MGDCF0BFTYQM</td>\n",
       "      <td>B0012NAXE2</td>\n",
       "      <td>2</td>\n",
       "      <td>THE POOREST MADDEN GAME EVER When I first got ...</td>\n",
       "      <td>__label__negative__</td>\n",
       "    </tr>\n",
       "    <tr>\n",
       "      <th>4</th>\n",
       "      <td>RZD8INNNJ46OZ</td>\n",
       "      <td>B0038TR60M</td>\n",
       "      <td>2</td>\n",
       "      <td>Good case but still disappointed The case is e...</td>\n",
       "      <td>__label__negative__</td>\n",
       "    </tr>\n",
       "  </tbody>\n",
       "</table>\n",
       "</div>"
      ],
      "text/plain": [
       "        review_id  product_id star_rating  \\\n",
       "0  R3QK7ITZLJTWLF  B002BU0DPE           1   \n",
       "1  R2FNT507ZCB4GE  B001GM6C26           3   \n",
       "2  R1LVPFY1GV1NLA  B00178630A           1   \n",
       "3  R3MGDCF0BFTYQM  B0012NAXE2           2   \n",
       "4   RZD8INNNJ46OZ  B0038TR60M           2   \n",
       "\n",
       "                                         review_body                label  \n",
       "0  Cheaply made. The headset is shoddy. The wires...  __label__negative__  \n",
       "1  not bad being a fan of hidden pictures this ga...   __label__neutral__  \n",
       "2  Addictive, but not fun Let me give you a quick...  __label__negative__  \n",
       "3  THE POOREST MADDEN GAME EVER When I first got ...  __label__negative__  \n",
       "4  Good case but still disappointed The case is e...  __label__negative__  "
      ]
     },
     "execution_count": 10,
     "metadata": {},
     "output_type": "execute_result"
    }
   ],
   "source": [
    "data.head()"
   ]
  },
  {
   "cell_type": "markdown",
   "metadata": {},
   "source": [
    "## Tokenize reviews"
   ]
  },
  {
   "cell_type": "code",
   "execution_count": 11,
   "metadata": {},
   "outputs": [
    {
     "name": "stderr",
     "output_type": "stream",
     "text": [
      "[nltk_data] Downloading package punkt to /root/nltk_data...\n",
      "[nltk_data]   Unzipping tokenizers/punkt.zip.\n"
     ]
    },
    {
     "data": {
      "text/plain": [
       "True"
      ]
     },
     "execution_count": 11,
     "metadata": {},
     "output_type": "execute_result"
    }
   ],
   "source": [
    "import nltk\n",
    "nltk.download('punkt')"
   ]
  },
  {
   "cell_type": "code",
   "execution_count": null,
   "metadata": {},
   "outputs": [],
   "source": [
    "%%time\n",
    "data['review_body'] = data['review_body'].apply(nltk.word_tokenize)"
   ]
  },
  {
   "cell_type": "code",
   "execution_count": null,
   "metadata": {},
   "outputs": [],
   "source": [
    "%%time\n",
    "data['review_body'] = data.apply(lambda row: \" \".join(row['review_body']).lower(), axis=1)"
   ]
  },
  {
   "cell_type": "markdown",
   "metadata": {},
   "source": []
  },
  {
   "cell_type": "code",
   "execution_count": null,
   "metadata": {},
   "outputs": [],
   "source": []
  }
 ],
 "metadata": {
  "instance_type": "ml.t3.medium",
  "kernelspec": {
   "display_name": "Python 3 (Data Science)",
   "language": "python",
   "name": "python3__SAGEMAKER_INTERNAL__arn:aws:sagemaker:eu-west-1:470317259841:image/datascience-1.0"
  },
  "language_info": {
   "codemirror_mode": {
    "name": "ipython",
    "version": 3
   },
   "file_extension": ".py",
   "mimetype": "text/x-python",
   "name": "python",
   "nbconvert_exporter": "python",
   "pygments_lexer": "ipython3",
   "version": "3.7.10"
  }
 },
 "nbformat": 4,
 "nbformat_minor": 4
}
