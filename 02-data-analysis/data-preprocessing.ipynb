{
 "cells": [
  {
   "cell_type": "code",
   "execution_count": 1,
   "metadata": {},
   "outputs": [],
   "source": [
    "import pandas as pd\n",
    "import numpy as np\n",
    "import time\n",
    "from time import gmtime, strftime"
   ]
  },
  {
   "cell_type": "code",
   "execution_count": 2,
   "metadata": {},
   "outputs": [
    {
     "name": "stdout",
     "output_type": "stream",
     "text": [
      "CPU times: user 1.54 s, sys: 238 ms, total: 1.78 s\n",
      "Wall time: 2.94 s\n"
     ]
    }
   ],
   "source": [
    "%%time\n",
    "s3_athena_file = 's3://lb.athena.queries.result/products_reviews_queries/2021/06/15/07d38fc4-1a3e-401f-9832-7b7529389717.csv'\n",
    "data = pd.read_csv(s3_athena_file, error_bad_lines=False, dtype='str')"
   ]
  },
  {
   "cell_type": "code",
   "execution_count": 3,
   "metadata": {},
   "outputs": [
    {
     "name": "stdout",
     "output_type": "stream",
     "text": [
      "(145427, 16)\n",
      "Index(['marketplace', 'customer_id', 'review_id', 'product_id',\n",
      "       'product_parent', 'product_title', 'star_rating', 'helpful_votes',\n",
      "       'total_votes', 'vine', 'verified_purchase', 'review_headline',\n",
      "       'review_body', 'review_date', 'year', 'product_category'],\n",
      "      dtype='object')\n"
     ]
    },
    {
     "data": {
      "text/html": [
       "<div>\n",
       "<style scoped>\n",
       "    .dataframe tbody tr th:only-of-type {\n",
       "        vertical-align: middle;\n",
       "    }\n",
       "\n",
       "    .dataframe tbody tr th {\n",
       "        vertical-align: top;\n",
       "    }\n",
       "\n",
       "    .dataframe thead th {\n",
       "        text-align: right;\n",
       "    }\n",
       "</style>\n",
       "<table border=\"1\" class=\"dataframe\">\n",
       "  <thead>\n",
       "    <tr style=\"text-align: right;\">\n",
       "      <th></th>\n",
       "      <th>marketplace</th>\n",
       "      <th>customer_id</th>\n",
       "      <th>review_id</th>\n",
       "      <th>product_id</th>\n",
       "      <th>product_parent</th>\n",
       "      <th>product_title</th>\n",
       "      <th>star_rating</th>\n",
       "      <th>helpful_votes</th>\n",
       "      <th>total_votes</th>\n",
       "      <th>vine</th>\n",
       "      <th>verified_purchase</th>\n",
       "      <th>review_headline</th>\n",
       "      <th>review_body</th>\n",
       "      <th>review_date</th>\n",
       "      <th>year</th>\n",
       "      <th>product_category</th>\n",
       "    </tr>\n",
       "  </thead>\n",
       "  <tbody>\n",
       "    <tr>\n",
       "      <th>0</th>\n",
       "      <td>US</td>\n",
       "      <td>891276</td>\n",
       "      <td>R3LGIYKBEHXTYB</td>\n",
       "      <td>B004RMK57U</td>\n",
       "      <td>53534661</td>\n",
       "      <td>Playstation Plus Subscription</td>\n",
       "      <td>5</td>\n",
       "      <td>0</td>\n",
       "      <td>0</td>\n",
       "      <td>N</td>\n",
       "      <td>Y</td>\n",
       "      <td>Fast purchase</td>\n",
       "      <td>It was a good deal, worked perfectly ty amazon</td>\n",
       "      <td>16391</td>\n",
       "      <td>2014</td>\n",
       "      <td>Digital_Video_Games</td>\n",
       "    </tr>\n",
       "    <tr>\n",
       "      <th>1</th>\n",
       "      <td>US</td>\n",
       "      <td>50451909</td>\n",
       "      <td>R14QEUQI9OR0YV</td>\n",
       "      <td>B00GXHISJE</td>\n",
       "      <td>599419294</td>\n",
       "      <td>Fallout 3: Game of The Year Edition</td>\n",
       "      <td>2</td>\n",
       "      <td>0</td>\n",
       "      <td>1</td>\n",
       "      <td>N</td>\n",
       "      <td>Y</td>\n",
       "      <td>Freezes!</td>\n",
       "      <td>I have Win 7 and I'm running with 6 gigs of RA...</td>\n",
       "      <td>16170</td>\n",
       "      <td>2014</td>\n",
       "      <td>Digital_Video_Games</td>\n",
       "    </tr>\n",
       "    <tr>\n",
       "      <th>2</th>\n",
       "      <td>US</td>\n",
       "      <td>34443239</td>\n",
       "      <td>R4OM7NI4IM1Y2</td>\n",
       "      <td>B00K59HKIQ</td>\n",
       "      <td>384246568</td>\n",
       "      <td>Playstation Network Card</td>\n",
       "      <td>5</td>\n",
       "      <td>0</td>\n",
       "      <td>0</td>\n",
       "      <td>N</td>\n",
       "      <td>Y</td>\n",
       "      <td>Super fast !</td>\n",
       "      <td>Super fast !</td>\n",
       "      <td>16391</td>\n",
       "      <td>2014</td>\n",
       "      <td>Digital_Video_Games</td>\n",
       "    </tr>\n",
       "    <tr>\n",
       "      <th>3</th>\n",
       "      <td>US</td>\n",
       "      <td>4461282</td>\n",
       "      <td>R10DI66H4ZRF9Q</td>\n",
       "      <td>B0087STJLS</td>\n",
       "      <td>296282987</td>\n",
       "      <td>Battlefield 3: Premium Season Pass</td>\n",
       "      <td>5</td>\n",
       "      <td>0</td>\n",
       "      <td>0</td>\n",
       "      <td>N</td>\n",
       "      <td>Y</td>\n",
       "      <td>A lot of really cool maps, enjoy guarantee.</td>\n",
       "      <td>the maps are great , are full of details this ...</td>\n",
       "      <td>16170</td>\n",
       "      <td>2014</td>\n",
       "      <td>Digital_Video_Games</td>\n",
       "    </tr>\n",
       "    <tr>\n",
       "      <th>4</th>\n",
       "      <td>US</td>\n",
       "      <td>16183275</td>\n",
       "      <td>R2X6KKO5JTNP27</td>\n",
       "      <td>B00JLK6ULS</td>\n",
       "      <td>216162264</td>\n",
       "      <td>Sid Meier's Civilization: Beyond Earth</td>\n",
       "      <td>2</td>\n",
       "      <td>0</td>\n",
       "      <td>1</td>\n",
       "      <td>N</td>\n",
       "      <td>Y</td>\n",
       "      <td>Very Disappointed.</td>\n",
       "      <td>I was really excited for this game and picked ...</td>\n",
       "      <td>16391</td>\n",
       "      <td>2014</td>\n",
       "      <td>Digital_Video_Games</td>\n",
       "    </tr>\n",
       "  </tbody>\n",
       "</table>\n",
       "</div>"
      ],
      "text/plain": [
       "  marketplace customer_id       review_id  product_id product_parent  \\\n",
       "0          US      891276  R3LGIYKBEHXTYB  B004RMK57U       53534661   \n",
       "1          US    50451909  R14QEUQI9OR0YV  B00GXHISJE      599419294   \n",
       "2          US    34443239   R4OM7NI4IM1Y2  B00K59HKIQ      384246568   \n",
       "3          US     4461282  R10DI66H4ZRF9Q  B0087STJLS      296282987   \n",
       "4          US    16183275  R2X6KKO5JTNP27  B00JLK6ULS      216162264   \n",
       "\n",
       "                            product_title star_rating helpful_votes  \\\n",
       "0           Playstation Plus Subscription           5             0   \n",
       "1     Fallout 3: Game of The Year Edition           2             0   \n",
       "2                Playstation Network Card           5             0   \n",
       "3      Battlefield 3: Premium Season Pass           5             0   \n",
       "4  Sid Meier's Civilization: Beyond Earth           2             0   \n",
       "\n",
       "  total_votes vine verified_purchase  \\\n",
       "0           0    N                 Y   \n",
       "1           1    N                 Y   \n",
       "2           0    N                 Y   \n",
       "3           0    N                 Y   \n",
       "4           1    N                 Y   \n",
       "\n",
       "                               review_headline  \\\n",
       "0                                Fast purchase   \n",
       "1                                     Freezes!   \n",
       "2                                 Super fast !   \n",
       "3  A lot of really cool maps, enjoy guarantee.   \n",
       "4                           Very Disappointed.   \n",
       "\n",
       "                                         review_body review_date  year  \\\n",
       "0     It was a good deal, worked perfectly ty amazon       16391  2014   \n",
       "1  I have Win 7 and I'm running with 6 gigs of RA...       16170  2014   \n",
       "2                                       Super fast !       16391  2014   \n",
       "3  the maps are great , are full of details this ...       16170  2014   \n",
       "4  I was really excited for this game and picked ...       16391  2014   \n",
       "\n",
       "      product_category  \n",
       "0  Digital_Video_Games  \n",
       "1  Digital_Video_Games  \n",
       "2  Digital_Video_Games  \n",
       "3  Digital_Video_Games  \n",
       "4  Digital_Video_Games  "
      ]
     },
     "execution_count": 3,
     "metadata": {},
     "output_type": "execute_result"
    }
   ],
   "source": [
    "data.dropna(inplace=True)\n",
    "\n",
    "print(data.shape)\n",
    "print(data.columns)\n",
    "\n",
    "data.head()"
   ]
  },
  {
   "cell_type": "code",
   "execution_count": 4,
   "metadata": {},
   "outputs": [
    {
     "name": "stdout",
     "output_type": "stream",
     "text": [
      "CPU times: user 76.3 ms, sys: 24.9 ms, total: 101 ms\n",
      "Wall time: 245 ms\n"
     ]
    }
   ],
   "source": [
    "%%time\n",
    "data['review_body'] = data['review_headline'] + ' ' + data['review_body']"
   ]
  },
  {
   "cell_type": "code",
   "execution_count": 5,
   "metadata": {},
   "outputs": [
    {
     "name": "stdout",
     "output_type": "stream",
     "text": [
      "CPU times: user 79.2 ms, sys: 21.9 ms, total: 101 ms\n",
      "Wall time: 122 ms\n"
     ]
    }
   ],
   "source": [
    "%%time\n",
    "data = data[['review_id', 'product_id','star_rating','review_body']]"
   ]
  },
  {
   "cell_type": "code",
   "execution_count": 7,
   "metadata": {},
   "outputs": [
    {
     "data": {
      "text/html": [
       "<div>\n",
       "<style scoped>\n",
       "    .dataframe tbody tr th:only-of-type {\n",
       "        vertical-align: middle;\n",
       "    }\n",
       "\n",
       "    .dataframe tbody tr th {\n",
       "        vertical-align: top;\n",
       "    }\n",
       "\n",
       "    .dataframe thead th {\n",
       "        text-align: right;\n",
       "    }\n",
       "</style>\n",
       "<table border=\"1\" class=\"dataframe\">\n",
       "  <thead>\n",
       "    <tr style=\"text-align: right;\">\n",
       "      <th></th>\n",
       "      <th>review_id</th>\n",
       "      <th>product_id</th>\n",
       "      <th>star_rating</th>\n",
       "      <th>review_body</th>\n",
       "    </tr>\n",
       "  </thead>\n",
       "  <tbody>\n",
       "    <tr>\n",
       "      <th>0</th>\n",
       "      <td>R3QK7ITZLJTWLF</td>\n",
       "      <td>B002BU0DPE</td>\n",
       "      <td>1</td>\n",
       "      <td>Cheaply made. The headset is shoddy. The wires...</td>\n",
       "    </tr>\n",
       "    <tr>\n",
       "      <th>1</th>\n",
       "      <td>R2FNT507ZCB4GE</td>\n",
       "      <td>B001GM6C26</td>\n",
       "      <td>3</td>\n",
       "      <td>not bad being a fan of hidden pictures this ga...</td>\n",
       "    </tr>\n",
       "    <tr>\n",
       "      <th>2</th>\n",
       "      <td>R1LVPFY1GV1NLA</td>\n",
       "      <td>B00178630A</td>\n",
       "      <td>1</td>\n",
       "      <td>Addictive, but not fun Let me give you a quick...</td>\n",
       "    </tr>\n",
       "    <tr>\n",
       "      <th>3</th>\n",
       "      <td>R3MGDCF0BFTYQM</td>\n",
       "      <td>B0012NAXE2</td>\n",
       "      <td>2</td>\n",
       "      <td>THE POOREST MADDEN GAME EVER When I first got ...</td>\n",
       "    </tr>\n",
       "    <tr>\n",
       "      <th>4</th>\n",
       "      <td>RZD8INNNJ46OZ</td>\n",
       "      <td>B0038TR60M</td>\n",
       "      <td>2</td>\n",
       "      <td>Good case but still disappointed The case is e...</td>\n",
       "    </tr>\n",
       "  </tbody>\n",
       "</table>\n",
       "</div>"
      ],
      "text/plain": [
       "        review_id  product_id star_rating  \\\n",
       "0  R3QK7ITZLJTWLF  B002BU0DPE           1   \n",
       "1  R2FNT507ZCB4GE  B001GM6C26           3   \n",
       "2  R1LVPFY1GV1NLA  B00178630A           1   \n",
       "3  R3MGDCF0BFTYQM  B0012NAXE2           2   \n",
       "4   RZD8INNNJ46OZ  B0038TR60M           2   \n",
       "\n",
       "                                         review_body  \n",
       "0  Cheaply made. The headset is shoddy. The wires...  \n",
       "1  not bad being a fan of hidden pictures this ga...  \n",
       "2  Addictive, but not fun Let me give you a quick...  \n",
       "3  THE POOREST MADDEN GAME EVER When I first got ...  \n",
       "4  Good case but still disappointed The case is e...  "
      ]
     },
     "execution_count": 7,
     "metadata": {},
     "output_type": "execute_result"
    }
   ],
   "source": [
    "data.head()"
   ]
  },
  {
   "cell_type": "code",
   "execution_count": 8,
   "metadata": {},
   "outputs": [
    {
     "data": {
      "text/plain": [
       "array(['1', '3', '2', '4', '5'], dtype=object)"
      ]
     },
     "execution_count": 8,
     "metadata": {},
     "output_type": "execute_result"
    }
   ],
   "source": [
    "data.star_rating.unique()"
   ]
  },
  {
   "cell_type": "code",
   "execution_count": 9,
   "metadata": {},
   "outputs": [
    {
     "name": "stdout",
     "output_type": "stream",
     "text": [
      "CPU times: user 174 ms, sys: 3.64 ms, total: 177 ms\n",
      "Wall time: 224 ms\n"
     ]
    }
   ],
   "source": [
    "%%time\n",
    "data['label'] = data.star_rating.map({\n",
    "    '1':'__label__negative__',\n",
    "    '2':'__label__negative__',\n",
    "    '3':'__label__neutral__',\n",
    "    '4':'__label__positive__',\n",
    "    '5':'__label__positive__'\n",
    "})"
   ]
  },
  {
   "cell_type": "code",
   "execution_count": 10,
   "metadata": {},
   "outputs": [
    {
     "data": {
      "text/html": [
       "<div>\n",
       "<style scoped>\n",
       "    .dataframe tbody tr th:only-of-type {\n",
       "        vertical-align: middle;\n",
       "    }\n",
       "\n",
       "    .dataframe tbody tr th {\n",
       "        vertical-align: top;\n",
       "    }\n",
       "\n",
       "    .dataframe thead th {\n",
       "        text-align: right;\n",
       "    }\n",
       "</style>\n",
       "<table border=\"1\" class=\"dataframe\">\n",
       "  <thead>\n",
       "    <tr style=\"text-align: right;\">\n",
       "      <th></th>\n",
       "      <th>review_id</th>\n",
       "      <th>product_id</th>\n",
       "      <th>star_rating</th>\n",
       "      <th>review_body</th>\n",
       "      <th>label</th>\n",
       "    </tr>\n",
       "  </thead>\n",
       "  <tbody>\n",
       "    <tr>\n",
       "      <th>0</th>\n",
       "      <td>R3QK7ITZLJTWLF</td>\n",
       "      <td>B002BU0DPE</td>\n",
       "      <td>1</td>\n",
       "      <td>Cheaply made. The headset is shoddy. The wires...</td>\n",
       "      <td>__label__negative__</td>\n",
       "    </tr>\n",
       "    <tr>\n",
       "      <th>1</th>\n",
       "      <td>R2FNT507ZCB4GE</td>\n",
       "      <td>B001GM6C26</td>\n",
       "      <td>3</td>\n",
       "      <td>not bad being a fan of hidden pictures this ga...</td>\n",
       "      <td>__label__neutral__</td>\n",
       "    </tr>\n",
       "    <tr>\n",
       "      <th>2</th>\n",
       "      <td>R1LVPFY1GV1NLA</td>\n",
       "      <td>B00178630A</td>\n",
       "      <td>1</td>\n",
       "      <td>Addictive, but not fun Let me give you a quick...</td>\n",
       "      <td>__label__negative__</td>\n",
       "    </tr>\n",
       "    <tr>\n",
       "      <th>3</th>\n",
       "      <td>R3MGDCF0BFTYQM</td>\n",
       "      <td>B0012NAXE2</td>\n",
       "      <td>2</td>\n",
       "      <td>THE POOREST MADDEN GAME EVER When I first got ...</td>\n",
       "      <td>__label__negative__</td>\n",
       "    </tr>\n",
       "    <tr>\n",
       "      <th>4</th>\n",
       "      <td>RZD8INNNJ46OZ</td>\n",
       "      <td>B0038TR60M</td>\n",
       "      <td>2</td>\n",
       "      <td>Good case but still disappointed The case is e...</td>\n",
       "      <td>__label__negative__</td>\n",
       "    </tr>\n",
       "  </tbody>\n",
       "</table>\n",
       "</div>"
      ],
      "text/plain": [
       "        review_id  product_id star_rating  \\\n",
       "0  R3QK7ITZLJTWLF  B002BU0DPE           1   \n",
       "1  R2FNT507ZCB4GE  B001GM6C26           3   \n",
       "2  R1LVPFY1GV1NLA  B00178630A           1   \n",
       "3  R3MGDCF0BFTYQM  B0012NAXE2           2   \n",
       "4   RZD8INNNJ46OZ  B0038TR60M           2   \n",
       "\n",
       "                                         review_body                label  \n",
       "0  Cheaply made. The headset is shoddy. The wires...  __label__negative__  \n",
       "1  not bad being a fan of hidden pictures this ga...   __label__neutral__  \n",
       "2  Addictive, but not fun Let me give you a quick...  __label__negative__  \n",
       "3  THE POOREST MADDEN GAME EVER When I first got ...  __label__negative__  \n",
       "4  Good case but still disappointed The case is e...  __label__negative__  "
      ]
     },
     "execution_count": 10,
     "metadata": {},
     "output_type": "execute_result"
    }
   ],
   "source": [
    "data.head()"
   ]
  },
  {
   "cell_type": "markdown",
   "metadata": {},
   "source": [
    "## Tokenize reviews"
   ]
  },
  {
   "cell_type": "code",
   "execution_count": 11,
   "metadata": {},
   "outputs": [
    {
     "name": "stderr",
     "output_type": "stream",
     "text": [
      "[nltk_data] Downloading package punkt to /root/nltk_data...\n",
      "[nltk_data]   Unzipping tokenizers/punkt.zip.\n"
     ]
    },
    {
     "data": {
      "text/plain": [
       "True"
      ]
     },
     "execution_count": 11,
     "metadata": {},
     "output_type": "execute_result"
    }
   ],
   "source": [
    "import nltk\n",
    "nltk.download('punkt')"
   ]
  },
  {
   "cell_type": "code",
   "execution_count": null,
   "metadata": {},
   "outputs": [],
   "source": [
    "%%time\n",
    "data['review_body'] = data['review_body'].apply(nltk.word_tokenize)"
   ]
  },
  {
   "cell_type": "code",
   "execution_count": null,
   "metadata": {},
   "outputs": [],
   "source": [
    "%%time\n",
    "data['review_body'] = data.apply(lambda row: \" \".join(row['review_body']).lower(), axis=1)"
   ]
  },
  {
   "cell_type": "markdown",
   "metadata": {},
   "source": []
  },
  {
   "cell_type": "code",
   "execution_count": null,
   "metadata": {},
   "outputs": [],
   "source": []
  }
 ],
 "metadata": {
  "instance_type": "ml.t3.medium",
  "kernelspec": {
   "display_name": "Python 3 (Data Science)",
   "language": "python",
   "name": "python3__SAGEMAKER_INTERNAL__arn:aws:sagemaker:eu-west-1:470317259841:image/datascience-1.0"
  },
  "language_info": {
   "codemirror_mode": {
    "name": "ipython",
    "version": 3
   },
   "file_extension": ".py",
   "mimetype": "text/x-python",
   "name": "python",
   "nbconvert_exporter": "python",
   "pygments_lexer": "ipython3",
   "version": "3.7.10"
  }
 },
 "nbformat": 4,
 "nbformat_minor": 4
}
